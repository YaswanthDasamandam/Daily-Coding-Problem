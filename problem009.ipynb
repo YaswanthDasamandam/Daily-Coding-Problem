{
 "cells": [
  {
   "cell_type": "raw",
   "metadata": {},
   "source": [
    "Good morning! Here's your coding interview problem for today.\n",
    "\n",
    "This problem was asked by Microsoft.\n",
    "\n",
    "Given an array of numbers and a number k, determine if there are three entries in the array which add up to the specified number k. For example, given [20, 303, 3, 4, 25] and k = 49, return true as 20 + 4 + 25 = 49."
   ]
  },
  {
   "cell_type": "code",
   "execution_count": 8,
   "metadata": {},
   "outputs": [],
   "source": [
    "# two pointer approach\n",
    "def three_entries(array,k):# k is the sum\n",
    "    array.sort()\n",
    "#     p1 and p2 are pointers\n",
    "    n= len(array)\n",
    "    for i in range(n-2):\n",
    "#         every time we reset p1 and p2 with i+1 and last element\n",
    "        p1 = i+1\n",
    "        p2 = n-1\n",
    "        ret_list=[]\n",
    "        while p1<p2:\n",
    "            if k<array[p1]+array[p2]+array[i]:\n",
    "                p2 -=1\n",
    "            elif k>array[p1]+array[p2]+array[i]:\n",
    "                p1+=1\n",
    "            elif k==array[p1]+array[p2]+array[i]:\n",
    "                print((array[p1],array[p2],array[i]))\n",
    "                return True \n",
    "                \n",
    "                    \n",
    "\n",
    "            \n",
    "        \n",
    "    "
   ]
  },
  {
   "cell_type": "code",
   "execution_count": 10,
   "metadata": {},
   "outputs": [
    {
     "name": "stdout",
     "output_type": "stream",
     "text": [
      "(20, 25, 4)\n"
     ]
    }
   ],
   "source": [
    "assert three_entries([20, 303, 3, 4, 25],49)==True"
   ]
  },
  {
   "cell_type": "code",
   "execution_count": null,
   "metadata": {},
   "outputs": [],
   "source": []
  }
 ],
 "metadata": {
  "kernelspec": {
   "display_name": "Python 3",
   "language": "python",
   "name": "python3"
  },
  "language_info": {
   "codemirror_mode": {
    "name": "ipython",
    "version": 3
   },
   "file_extension": ".py",
   "mimetype": "text/x-python",
   "name": "python",
   "nbconvert_exporter": "python",
   "pygments_lexer": "ipython3",
   "version": "3.8.5"
  }
 },
 "nbformat": 4,
 "nbformat_minor": 4
}

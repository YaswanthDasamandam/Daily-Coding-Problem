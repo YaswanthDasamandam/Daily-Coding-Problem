{
 "cells": [
  {
   "cell_type": "raw",
   "metadata": {},
   "source": [
    "Good morning! Here's your coding interview problem for today.\n",
    "\n",
    "This problem was asked by Yelp.\n",
    "\n",
    "You are given an array of integers, where each element represents the maximum number of steps that can be jumped going forward from that element. Write a function to return the minimum number of jumps you must take in order to get from the start to the end of the array.\n",
    "\n",
    "For example, given [6, 2, 4, 0, 5, 1, 1, 4, 2, 9], you should return 2, as the optimal solution involves jumping from 6 to 5, and then from 5 to 9."
   ]
  },
  {
   "cell_type": "code",
   "execution_count": 8,
   "metadata": {},
   "outputs": [],
   "source": [
    "def min_jumps(arr):\n",
    "    # go to first element\n",
    "    # check for max element\n",
    "    count =0\n",
    "    n = len(arr)\n",
    "    i = 0\n",
    "    val = arr[i]\n",
    "    m= 0\n",
    "    \n",
    "    while i < n:\n",
    "        val = arr[i]\n",
    "        # check for i +val <n\n",
    "        if i +val >= n-1:\n",
    "            count +=1\n",
    "            return count\n",
    "        else :# check for max element in the next steps\n",
    "            for j in range(i+1,i +val +1):\n",
    "                if arr[j]>=m:\n",
    "                    i = j\n",
    "                    \n",
    "            if i +val < n-1:\n",
    "                count+=1\n",
    "            \n",
    "            \n",
    "            "
   ]
  },
  {
   "cell_type": "code",
   "execution_count": 9,
   "metadata": {},
   "outputs": [
    {
     "data": {
      "text/plain": [
       "2"
      ]
     },
     "execution_count": 9,
     "metadata": {},
     "output_type": "execute_result"
    }
   ],
   "source": [
    "min_jumps([6, 2, 4, 0, 5, 1, 1, 4, 2, 9])"
   ]
  },
  {
   "cell_type": "code",
   "execution_count": 10,
   "metadata": {},
   "outputs": [
    {
     "data": {
      "text/plain": [
       "1"
      ]
     },
     "execution_count": 10,
     "metadata": {},
     "output_type": "execute_result"
    }
   ],
   "source": [
    "min_jumps([2,4])"
   ]
  },
  {
   "cell_type": "code",
   "execution_count": null,
   "metadata": {},
   "outputs": [],
   "source": []
  }
 ],
 "metadata": {
  "kernelspec": {
   "display_name": "Python 3",
   "language": "python",
   "name": "python3"
  },
  "language_info": {
   "codemirror_mode": {
    "name": "ipython",
    "version": 3
   },
   "file_extension": ".py",
   "mimetype": "text/x-python",
   "name": "python",
   "nbconvert_exporter": "python",
   "pygments_lexer": "ipython3",
   "version": "3.8.5"
  }
 },
 "nbformat": 4,
 "nbformat_minor": 4
}

{
 "cells": [
  {
   "cell_type": "raw",
   "metadata": {},
   "source": [
    "Good morning! Here's your coding interview problem for today.\n",
    "\n",
    "This problem was asked by Dropbox.\n",
    "\n",
    "Given an undirected graph G, check whether it is bipartite. Recall that a graph is bipartite if its vertices can be divided into two independent sets, U and V, such that no edge connects vertices of the same set."
   ]
  },
  {
   "cell_type": "code",
   "execution_count": 4,
   "metadata": {},
   "outputs": [
    {
     "ename": "AssertionError",
     "evalue": "",
     "output_type": "error",
     "traceback": [
      "\u001b[1;31m---------------------------------------------------------------------------\u001b[0m",
      "\u001b[1;31mAssertionError\u001b[0m                            Traceback (most recent call last)",
      "\u001b[1;32m<ipython-input-4-7d132745cc43>\u001b[0m in \u001b[0;36m<module>\u001b[1;34m\u001b[0m\n\u001b[0;32m     26\u001b[0m     \u001b[1;32mreturn\u001b[0m \u001b[1;32mTrue\u001b[0m\u001b[1;33m\u001b[0m\u001b[1;33m\u001b[0m\u001b[0m\n\u001b[0;32m     27\u001b[0m \u001b[1;33m\u001b[0m\u001b[0m\n\u001b[1;32m---> 28\u001b[1;33m \u001b[1;32massert\u001b[0m \u001b[0mis_bipartite\u001b[0m\u001b[1;33m(\u001b[0m\u001b[0mmatrix\u001b[0m\u001b[1;33m)\u001b[0m\u001b[1;33m==\u001b[0m\u001b[1;32mFalse\u001b[0m\u001b[1;33m\u001b[0m\u001b[1;33m\u001b[0m\u001b[0m\n\u001b[0m",
      "\u001b[1;31mAssertionError\u001b[0m: "
     ]
    }
   ],
   "source": [
    "# The main goal is to find whether the graph is bi pertile\n",
    "\n",
    "\n",
    "# bipertite is a graph where we can divide all the nodes into two groups so that all the nodes in the same group dont connnected where as the nodes of other group can connect\n",
    "\n",
    "# lets start with adjacency matrix\n",
    "\n",
    "matrix = [[0,1,1],[1,0,0],[1,0,0]]\n",
    "\n",
    "def is_bipartite(M):\n",
    "    seta=[]\n",
    "    setb = []\n",
    "    # start by adding first node in set A\n",
    "    for i in range(len(M)):\n",
    "        for j in range(i):\n",
    "            if M[i][j]==1:\n",
    "                if i in seta and j in setb:pass\n",
    "                elif i in seta and j in seta:return False\n",
    "                elif i in setb and j in setb: return False\n",
    "                elif (i not in seta or i not in setb) and j in seta : setb.append(i)\n",
    "                elif (i not in seta or i not in setb) and j in setb : seta.append(i)\n",
    "                elif (j not in seta or j not in setb) and i in seta : setb.append(j)\n",
    "                elif (j not in seta or j not in setb) and i in setb : seta.append(j)\n",
    "                elif (i not in seta or i not in setb) and (j not in seta or j not in setb) :seta.append(i),setb.append(j)\n",
    "                    \n",
    "    return True\n",
    "    \n",
    "assert is_bipartite(matrix)==True\n"
   ]
  },
  {
   "cell_type": "code",
   "execution_count": null,
   "metadata": {},
   "outputs": [],
   "source": []
  }
 ],
 "metadata": {
  "kernelspec": {
   "display_name": "Python 3",
   "language": "python",
   "name": "python3"
  },
  "language_info": {
   "codemirror_mode": {
    "name": "ipython",
    "version": 3
   },
   "file_extension": ".py",
   "mimetype": "text/x-python",
   "name": "python",
   "nbconvert_exporter": "python",
   "pygments_lexer": "ipython3",
   "version": "3.8.5"
  }
 },
 "nbformat": 4,
 "nbformat_minor": 4
}

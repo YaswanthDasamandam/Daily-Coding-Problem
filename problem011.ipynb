{
 "cells": [
  {
   "cell_type": "raw",
   "metadata": {},
   "source": [
    "This problem was asked by Zillow.\n",
    "\n",
    "Let's define a \"sevenish\" number to be one which is either a power of 7, or the sum of unique powers of 7. The first few sevenish numbers are 1, 7, 8, 49, and so on. Create an algorithm to find the nth sevenish number."
   ]
  },
  {
   "cell_type": "code",
   "execution_count": 1,
   "metadata": {},
   "outputs": [
    {
     "name": "stdout",
     "output_type": "stream",
     "text": [
      "Enter the number : 5\n",
      "The 5 sevenish number is 50\n"
     ]
    }
   ],
   "source": [
    "  \n",
    "index = int(input('Enter the number : '))\n",
    "sevenish = []\n",
    "i = 0\n",
    "while len(sevenish) < index:\n",
    "\t#all powers of seven would be sevenish \n",
    "    sevenish.append(7**i)\n",
    "    last_index = len(sevenish)-1\n",
    "    for num in range(len(sevenish)-1):\n",
    "    \t#adding the current power of seven to all the present elements\n",
    "        sevenish.append(sevenish[last_index]+sevenish[num])\n",
    "        if len(sevenish) == index:\n",
    "            break\n",
    "    i = i + 1\n",
    "print('The {} sevenish number is {}'.format(index, sevenish.pop()))"
   ]
  },
  {
   "cell_type": "code",
   "execution_count": null,
   "metadata": {},
   "outputs": [],
   "source": []
  }
 ],
 "metadata": {
  "kernelspec": {
   "display_name": "Python 3",
   "language": "python",
   "name": "python3"
  },
  "language_info": {
   "codemirror_mode": {
    "name": "ipython",
    "version": 3
   },
   "file_extension": ".py",
   "mimetype": "text/x-python",
   "name": "python",
   "nbconvert_exporter": "python",
   "pygments_lexer": "ipython3",
   "version": "3.8.5"
  }
 },
 "nbformat": 4,
 "nbformat_minor": 4
}

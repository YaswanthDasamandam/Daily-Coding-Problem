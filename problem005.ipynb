{
 "cells": [
  {
   "cell_type": "markdown",
   "metadata": {},
   "source": [
    "# Migratory Birds\n",
    "\n",
    "https://www.hackerrank.com/challenges/migratory-birds/problem?h_r=next-challenge&h_v=zen"
   ]
  },
  {
   "cell_type": "code",
   "execution_count": null,
   "metadata": {},
   "outputs": [],
   "source": [
    "def migratoryBirds(arr):\n",
    "    idset = list(set(arr))\n",
    "    count =0\n",
    "    maxid=None\n",
    "    for i in idset:\n",
    "        cnti = arr.count(i)\n",
    "        if count < cnti:\n",
    "            count = cnti\n",
    "            maxid = i\n",
    "            \n",
    "    return maxid\n"
   ]
  }
 ],
 "metadata": {
  "kernelspec": {
   "display_name": "Python 3",
   "language": "python",
   "name": "python3"
  },
  "language_info": {
   "codemirror_mode": {
    "name": "ipython",
    "version": 3
   },
   "file_extension": ".py",
   "mimetype": "text/x-python",
   "name": "python",
   "nbconvert_exporter": "python",
   "pygments_lexer": "ipython3",
   "version": "3.8.5"
  }
 },
 "nbformat": 4,
 "nbformat_minor": 4
}

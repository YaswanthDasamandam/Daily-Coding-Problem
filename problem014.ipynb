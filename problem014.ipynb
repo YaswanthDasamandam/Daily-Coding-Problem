{
 "cells": [
  {
   "cell_type": "raw",
   "metadata": {},
   "source": [
    "We define a magic square to be an  matrix of distinct positive integers from  to  where the sum of any row, column, or diagonal of length  is always equal to the same number: the magic constant.\n",
    "\n",
    "You will be given a  matrix  of integers in the inclusive range . We can convert any digit  to any other digit  in the range  at cost of . Given , convert it into a magic square at minimal cost. Print this cost on a new line.\n",
    "\n",
    "Note: The resulting magic square must contain distinct integers in the inclusive range .\n",
    "\n",
    "Example\n",
    "\n",
    "$s = [[5, 3, 4], [1, 5, 8], [6, 4, 2]]\n",
    "\n",
    "The matrix looks like this:\n",
    "\n",
    "5 3 4\n",
    "1 5 8\n",
    "6 4 2\n",
    "We can convert it to the following magic square:\n",
    "\n",
    "8 3 4\n",
    "1 5 9\n",
    "6 7 2\n",
    "This took three replacements at a cost of .\n",
    "\n",
    "Function Description\n",
    "\n",
    "Complete the formingMagicSquare function in the editor below.\n",
    "\n",
    "formingMagicSquare has the following parameter(s):\n",
    "\n",
    "int s[3][3]: a  array of integers\n",
    "Returns\n",
    "\n",
    "int: the minimal total cost of converting the input square to a magic square\n",
    "Input Format\n",
    "\n",
    "Each of the  lines contains three space-separated integers of row .\n",
    "\n",
    "Constraints\n",
    "\n",
    "Sample Input 0\n",
    "\n",
    "4 9 2\n",
    "3 5 7\n",
    "8 1 5\n",
    "Sample Output 0\n",
    "\n",
    "1\n",
    "Explanation 0\n",
    "\n",
    "If we change the bottom right value, , from  to  at a cost of ,  becomes a magic square at the minimum possible cost.\n",
    "\n",
    "Sample Input 1\n",
    "\n",
    "4 8 2\n",
    "4 5 7\n",
    "6 1 6\n",
    "Sample Output 1\n",
    "\n",
    "4"
   ]
  },
  {
   "cell_type": "raw",
   "metadata": {},
   "source": [
    "Demonstrate that all 3x3 magic squares have a 5 in the center\n",
    "\n",
    "Let's call the center value 'C'. Let's call the sum of all other values 'Others'.\n",
    "\n",
    "A 3x3 magic square contains all numbers from 1 to 9. So the sum of the values of a 3x3 magic square is 45 (= 1 + 2 + ... + 8 + 9).\n",
    "\n",
    "Therefore,\n",
    "\n",
    "C + Others = 45 (eq. 1)\n",
    "\n",
    "In addition, the sum of the numbers on each row, column, and diagonal has to be 15 (the magical number). Now, consider the sum of the middle row, the middle column, and the two diagonals. They add to 60 (= 4 * 15). And this sum is equivalent to adding all the numbers in the square once and four times the central number.\n",
    "\n",
    "Therefore,\n",
    "\n",
    "4 * C + Others = 60 (eq. 2)\n",
    "\n",
    "From equations 1 and 2, we infer C = 5. Hence, all 3x3 magic squares have a 5 in the center.\n",
    "\n",
    "Desmonstrate that corner values are always even numbers\n",
    "\n",
    "Since we necessarily have a 5 in the center, it follows that each row, column, and diagonal that comprises this five will have two other numbers that add to 10. Hence we can establish candidate pairs:\n",
    "\n",
    "* (1, 9)\n",
    "* (2, 8)\n",
    "* (3, 7)\n",
    "* (4, 6)\n",
    "Notice that two of these pairs have odd numbers and two have even numbers.\n",
    "\n",
    "Imagine we place one of the odd pairs on a diagonal. We would then have an odd number in one of the top corners. Consider the first row (starting from the top). Since it alreay has an odd number in a corner, and the row has to sum to 15, the two other numbers both need to be odd, or both even. But we don't have enough odd pairs (we only have one left). And neither do we have enough even pairs, because if we place two of these vertically, then we have none left for the column containing the odd corner number. Hence, we reach a contradiction. This implies that our original hypothesis was incorrect. Namely, the corner numbers can't be odd, and therefore, should be even.\n",
    "\n",
    "Since we have two even pairs, there are 4 ways to place the first pair in the corners (for example, the (2, 8) pair can be placed with the 2 in the top-left, top-right, bottom-left, bottom-right). And for each of those 4 positions, there are two ways to place the second pair. Hence, 8 in total.\n",
    "\n",
    "Once the corner pairs have been placed, there is only one way to place the remaining numbers.\n",
    "\n",
    "Therefore, we have demonstrated that there are 8 different 3x3 magic squares. And we know how to generate them."
   ]
  },
  {
   "cell_type": "code",
   "execution_count": 31,
   "metadata": {},
   "outputs": [
    {
     "name": "stdout",
     "output_type": "stream",
     "text": [
      "[[4, 9, 2], [3, 5, 7], [8, 1, 5]]\n"
     ]
    }
   ],
   "source": [
    "#!/bin/python3\n",
    "\n",
    "import math\n",
    "import os\n",
    "import random\n",
    "import re\n",
    "import sys\n",
    "\n",
    "#\n",
    "# Complete the 'formingMagicSquare' function below.\n",
    "#\n",
    "# The function is expected to return an INTEGER.\n",
    "# The function accepts 2D_INTEGER_ARRAY s as parameter.\n",
    "#\n",
    "\n",
    "import numpy as np\n",
    "\n",
    "def forming_magic(M):\n",
    "    pre = [\n",
    "            [[8, 1, 6], [3, 5, 7], [4, 9, 2]],\n",
    "            [[6, 1, 8], [7, 5, 3], [2, 9, 4]],\n",
    "            [[4, 9, 2], [3, 5, 7], [8, 1, 6]],\n",
    "            [[2, 9, 4], [7, 5, 3], [6, 1, 8]], \n",
    "            [[8, 3, 4], [1, 5, 9], [6, 7, 2]],\n",
    "            [[4, 3, 8], [9, 5, 1], [2, 7, 6]], \n",
    "            [[6, 7, 2], [1, 5, 9], [8, 3, 4]], \n",
    "            [[2, 7, 6], [9, 5, 1], [4, 3, 8]],\n",
    "            ]\n",
    "    diff = []\n",
    "    for i in pre :\n",
    "        diff.append((diff(M,i)))\n",
    "        \n",
    "    result = min(diff)\n",
    "    \n",
    "    \n",
    "    \n",
    "    return result\n",
    "\n",
    "def diff(M,k):\n",
    "    result = 0\n",
    "    for i in range(3):\n",
    "        for j in range(3):\n",
    "            result += max(M[i][j] -k[i][j],-(M[i][j] -k[i][j]))\n",
    "    \n",
    "    return result\n",
    "    \n",
    "    \n",
    "    \n",
    "    \n",
    "\n",
    "\n",
    "assert formingMagicSquare([[4,9,2],[3,5,7],[8,1,5]])==1\n"
   ]
  },
  {
   "cell_type": "code",
   "execution_count": 5,
   "metadata": {},
   "outputs": [],
   "source": [
    "lis = [[1,5,9],[3,5,7],[2,9,4],[4,9,2],[6,1,8],[7,5,3],[8,1,6]]"
   ]
  },
  {
   "cell_type": "code",
   "execution_count": 7,
   "metadata": {},
   "outputs": [],
   "source": [
    "def is_magic(M):\n",
    "    if not sum(M[0]) == 15:\n",
    "        return False\n",
    "    if not sum(M[1]) == 15:\n",
    "        return False\n",
    "    if not sum(M[2]) ==15:\n",
    "        return False\n",
    "    if not (M[0][0]+M[1][1]+M[2][2] )==15:\n",
    "        return False\n",
    "    if not (M[0][2]+M[1][1]+M[2][0])==15:\n",
    "        return False\n",
    "    if not (M[0][0]+M[1][0]+M[2][0])==15:\n",
    "        return False\n",
    "    if not (M[0][1]+M[1][1]+M[2][1])==15:\n",
    "        return False\n",
    "    if not (M[0][2]+M[1][2]+M[2][2])==15:\n",
    "        return False\n",
    "    \n",
    "    return True"
   ]
  },
  {
   "cell_type": "code",
   "execution_count": 13,
   "metadata": {},
   "outputs": [
    {
     "data": {
      "text/plain": [
       "True"
      ]
     },
     "execution_count": 13,
     "metadata": {},
     "output_type": "execute_result"
    }
   ],
   "source": [
    "is_magic([[6,1,8],[7,5,3],[2,9,4]])"
   ]
  },
  {
   "cell_type": "code",
   "execution_count": 19,
   "metadata": {},
   "outputs": [],
   "source": [
    "sample_matrix=[[0]*3]*3"
   ]
  },
  {
   "cell_type": "code",
   "execution_count": 20,
   "metadata": {},
   "outputs": [
    {
     "data": {
      "text/plain": [
       "[[0, 0, 0], [0, 0, 0], [0, 0, 0]]"
      ]
     },
     "execution_count": 20,
     "metadata": {},
     "output_type": "execute_result"
    }
   ],
   "source": [
    "sample_matrix"
   ]
  },
  {
   "cell_type": "code",
   "execution_count": 23,
   "metadata": {},
   "outputs": [
    {
     "name": "stdout",
     "output_type": "stream",
     "text": [
      "[[5, 5, 5], [5, 5, 5], [5, 5, 5]]\n",
      "[[5, 5, 5], [5, 5, 5], [5, 5, 5]]\n",
      "[[5, 5, 5], [5, 5, 5], [5, 5, 5]]\n",
      "[[5, 5, 5], [5, 5, 5], [5, 5, 5]]\n",
      "[[5, 5, 5], [5, 5, 5], [5, 5, 5]]\n",
      "[[5, 5, 5], [5, 5, 5], [5, 5, 5]]\n",
      "[[5, 5, 5], [5, 5, 5], [5, 5, 5]]\n"
     ]
    }
   ],
   "source": [
    "for k in range(10):\n",
    "    for i in [0,1,2]:\n",
    "        for j in [0,1,2]:\n",
    "            sample_matrix[i][j] =k\n",
    "            if is_magic(sample_matrix):\n",
    "                print(sample_matrix)"
   ]
  },
  {
   "cell_type": "code",
   "execution_count": 24,
   "metadata": {},
   "outputs": [],
   "source": [
    "pre = [\n",
    "            [[8, 1, 6], [3, 5, 7], [4, 9, 2]],\n",
    "            [[6, 1, 8], [7, 5, 3], [2, 9, 4]],\n",
    "            [[4, 9, 2], [3, 5, 7], [8, 1, 6]],\n",
    "            [[2, 9, 4], [7, 5, 3], [6, 1, 8]], \n",
    "            [[8, 3, 4], [1, 5, 9], [6, 7, 2]],\n",
    "            [[4, 3, 8], [9, 5, 1], [2, 7, 6]], \n",
    "            [[6, 7, 2], [1, 5, 9], [8, 3, 4]], \n",
    "            [[2, 7, 6], [9, 5, 1], [4, 3, 8]],\n",
    "            ]"
   ]
  },
  {
   "cell_type": "code",
   "execution_count": 26,
   "metadata": {},
   "outputs": [
    {
     "name": "stdout",
     "output_type": "stream",
     "text": [
      "[[8, 1, 6], [3, 5, 7], [4, 9, 2]]\n",
      "[[6, 1, 8], [7, 5, 3], [2, 9, 4]]\n",
      "[[4, 9, 2], [3, 5, 7], [8, 1, 6]]\n",
      "[[2, 9, 4], [7, 5, 3], [6, 1, 8]]\n",
      "[[8, 3, 4], [1, 5, 9], [6, 7, 2]]\n",
      "[[4, 3, 8], [9, 5, 1], [2, 7, 6]]\n",
      "[[6, 7, 2], [1, 5, 9], [8, 3, 4]]\n",
      "[[2, 7, 6], [9, 5, 1], [4, 3, 8]]\n"
     ]
    }
   ],
   "source": [
    "for i in pre:\n",
    "    if is_magic(i):\n",
    "        print(i)"
   ]
  },
  {
   "cell_type": "code",
   "execution_count": null,
   "metadata": {},
   "outputs": [],
   "source": []
  }
 ],
 "metadata": {
  "kernelspec": {
   "display_name": "Python 3",
   "language": "python",
   "name": "python3"
  },
  "language_info": {
   "codemirror_mode": {
    "name": "ipython",
    "version": 3
   },
   "file_extension": ".py",
   "mimetype": "text/x-python",
   "name": "python",
   "nbconvert_exporter": "python",
   "pygments_lexer": "ipython3",
   "version": "3.8.5"
  }
 },
 "nbformat": 4,
 "nbformat_minor": 4
}

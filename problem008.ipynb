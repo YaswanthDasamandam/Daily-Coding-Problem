{
 "cells": [
  {
   "cell_type": "raw",
   "metadata": {},
   "source": [
    "Good morning! Here's your coding interview problem for today.\n",
    "\n",
    "This problem was asked by Google.\n",
    "\n",
    "Given two singly linked lists that intersect at some point, find the intersecting node. The lists are non-cyclical.\n",
    "\n",
    "For example, given A = 3 -> 7 -> 8 -> 10 and B = 99 -> 1 -> 8 -> 10, return the node with value 8.\n",
    "\n",
    "In this example, assume nodes with the same value are the exact same node objects.\n",
    "\n",
    "Do this in O(M + N) time (where M and N are the lengths of the lists) and constant space"
   ]
  },
  {
   "cell_type": "raw",
   "metadata": {},
   "source": [
    "so we will start with difference of them and go to the node of that difference and move forward untill i reach the end "
   ]
  },
  {
   "cell_type": "code",
   "execution_count": 12,
   "metadata": {},
   "outputs": [],
   "source": [
    "def find_intersection(list1,list2):\n",
    "    l1 = len(list1)\n",
    "    l2 = len(list2)\n",
    "    d = l1-l2 if l1>l2 else l2-l1\n",
    "    # go to the bigger list and\n",
    "    if l1>l2:\n",
    "        # start with d and move forward untill reach common node\n",
    "        p1,p2 = d,0\n",
    "        while list1[p1] != list2[p2]:\n",
    "            p1+=1\n",
    "            p2 +=1\n",
    "        return p1,list1\n",
    "    else:\n",
    "        p1,p2 = 0,d\n",
    "        while list1[p1] != list2[p2]:\n",
    "            p1+=1\n",
    "            p2 +=1\n",
    "        return p2,list2\n",
    "        "
   ]
  },
  {
   "cell_type": "code",
   "execution_count": 14,
   "metadata": {},
   "outputs": [
    {
     "data": {
      "text/plain": [
       "(3, [1, 2, 3, 4, 5])"
      ]
     },
     "execution_count": 14,
     "metadata": {},
     "output_type": "execute_result"
    }
   ],
   "source": [
    "find_intersection([8,9,4,5],[1,2,3,4,5])"
   ]
  },
  {
   "cell_type": "code",
   "execution_count": null,
   "metadata": {},
   "outputs": [],
   "source": []
  }
 ],
 "metadata": {
  "kernelspec": {
   "display_name": "Python 3",
   "language": "python",
   "name": "python3"
  },
  "language_info": {
   "codemirror_mode": {
    "name": "ipython",
    "version": 3
   },
   "file_extension": ".py",
   "mimetype": "text/x-python",
   "name": "python",
   "nbconvert_exporter": "python",
   "pygments_lexer": "ipython3",
   "version": "3.8.5"
  }
 },
 "nbformat": 4,
 "nbformat_minor": 4
}

{
 "cells": [
  {
   "cell_type": "markdown",
   "metadata": {},
   "source": [
    "# Divisible Sum Pairs\n",
    "\n",
    "https://www.hackerrank.com/challenges/divisible-sum-pairs/problem"
   ]
  },
  {
   "cell_type": "code",
   "execution_count": null,
   "metadata": {},
   "outputs": [],
   "source": [
    "def divisibleSumPairs(n, k, ar):\n",
    "    count =0\n",
    "    for i,val in enumerate(ar):\n",
    "        for j in range(i+1,n):\n",
    "            print(ar[i],ar[j])\n",
    "            if (ar[i]+ar[j])%k==0:\n",
    "                \n",
    "                count+=1\n",
    "                \n",
    "    return count"
   ]
  }
 ],
 "metadata": {
  "kernelspec": {
   "display_name": "Python 3",
   "language": "python",
   "name": "python3"
  },
  "language_info": {
   "codemirror_mode": {
    "name": "ipython",
    "version": 3
   },
   "file_extension": ".py",
   "mimetype": "text/x-python",
   "name": "python",
   "nbconvert_exporter": "python",
   "pygments_lexer": "ipython3",
   "version": "3.8.5"
  }
 },
 "nbformat": 4,
 "nbformat_minor": 4
}
